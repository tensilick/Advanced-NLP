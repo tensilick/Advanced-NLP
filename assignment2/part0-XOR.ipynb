
{
 "cells": [
  {
   "cell_type": "markdown",
   "metadata": {},
   "source": [
    "# CS 224D Assignment #2\n",
    "# Part [0]: Warmup: Boolean Logic\n",
    "\n",
    "To appreciate the power of neural networks to learn complex patterns, it can help to revisit a classic example. It is well-known that a single linear classifier cannot represent the XOR function $x \\oplus y$, depicted below*: there is no way to draw a single line that can separate the red and magenta (square) points from the blue and cyan (circle) points.\n",
    "\n",
    "*Gaussian noise is added to make the point clouds more illustrative; however, you can perform your analysis as if all points were truly boolean variables $(x,y) \\in \\{0,1\\}^2$."
   ]
  },
  {
   "cell_type": "code",
   "execution_count": 2,
   "metadata": {
    "collapsed": false
   },
   "outputs": [
    {
     "name": "stdout",
     "output_type": "stream",
     "text": [
      "The autoreload extension is already loaded. To reload it, use:\n",
      "  %reload_ext autoreload\n"
     ]
    }
   ],
   "source": [
    "from numpy import *\n",
    "from matplotlib.pyplot import *\n",
    "from scipy.special import expit\n",
    "\n",
    "%matplotlib inline\n",
    "matplotlib.rcParams['savefig.dpi'] = 100\n",
    "\n",
    "%load_ext autoreload\n",
    "%autoreload 2"
   ]
  },
  {
   "cell_type": "code",
   "execution_count": 3,
   "metadata": {
    "collapsed": true
   },
   "outputs": [],
   "source": [
    "colors = 'rbcm'\n",
    "markers = 'soos'\n",
    "def show_pts(data):\n",
    "    for i in range(4):\n",
    "        idx = (arange(npts) % 4 == i)\n",
    "        plot(data[0,idx], data[1,idx], \n",
    "             marker=markers[i], linestyle='.',\n",
    "             color=colors[i], alpha=0.5)\n",
    "    gca().set_aspect('equal')\n",
    "\n",
    "def show_pts_1d(data):\n",
    "    for i in range(4):\n",
    "        idx = (arange(npts) % 4 == i)\n",
    "        plot(data[idx], marker=markers[i], linestyle='.',\n",
    "             color=colors[i], alpha=0.5)\n",
    "    gca().set_aspect(npts/4.0)\n",
    "    \n",
    "#### Copy in your implementation from Assignment #1 ####\n",
    "def sigmoid(x):\n",
    "    return expit(x) # dummy\n",
    "#### or if the starter code is posted, uncomment the line below ####\n",
    "# from nn.math import sigmoid"
   ]
  },
  {
   "cell_type": "code",
   "execution_count": 4,
   "metadata": {
    "collapsed": false
   },
   "outputs": [
    {
     "data": {
      "text/plain": [
       "<matplotlib.text.Text at 0x7f292da8ea50>"
      ]
     },
     "execution_count": 4,
     "metadata": {},
     "output_type": "execute_result"
    },
    {
     "data": {
      "image/png": [
       "iVBORw0KGgoAAAANSUhEUgAAAY0AAAGFCAYAAAAB9K+8AAAABHNCSVQICAgIfAhkiAAAAAlwSFlz\n",
       "AAAPYQAAD2EBqD+naQAAIABJREFUeJzt3Xt81PWd7/HXZ3K/QQgBAuEqBESLKAJeEbStutRapZdV\n",
       "W+vq9rpdu2136+luD56t3a1nrZft3mq7ttuuvXC0rdt2F2+1imhFQFSQOwgKhAAhQO6ZSeZ7/vjN\n",
       "JMMwSX6TTC6TeT/7yEMyv99MvplO5j3f2+dnzjlERET8CAx1A0REJH0oNERExDeFhoiI+KbQEBER\n",
       "3xQaIiLim0JDRER8U2iIiIhvCg0REfFNoSEiIr4pNGREMbM/MbOwmS0Y6rZEmdnfmNmHkjg/HPPV\n",
       "bmZ1ZvaGmT1sZhcNZltE4ik0RAbe3wDJvlE/DlwMXAb8MfCfke9fMbN/HOS2iHTKHuoGiGQAB1iS\n",
       "9zninFsf8/2zkbD4PvBFM9vhnHt4kNoi0kk9DRnxzOxHZtZgZjPNbHXk3++a2f1mlhtz3vTIkNBX\n",
       "zezrkXNazGyDmV2V4DH3JfhZf2tm4Zjvw0ARcFvMkNPv+/J7OOfCwJ8DtcBXY35Gnpk9YGavm9lJ\n",
       "MztuZn8ws+vj2tZtW8xsnJn9m5ltjTw/R8zsOTO7vC9tlZFLoSGZIgf4LfAscD3wQ+DLwP9KcO6f\n",
       "A1cDXwQ+AYSBJ83s4rjzuisRHXv7JUAL8D94w0sXA3/Wt18BnHOtwHPADDOrjNycB4wFHgRuAG4C\n",
       "XgJ+aWa3+mzLmMh/vwl8APgT4G3gBTNb2tf2ysij4SnJFLnASufcLyPfP29mC4Fb8N4oYwWA9zvn\n",
       "ggBm9jSwH7gHL0yiuhvm6bzdOfdq5BP+sbjhpv54J/LficAh51w93ps8kfZmAc8DZcCXgEd7a4tz\n",
       "bhcxYRZ5jGeB6XjhuSZFbZc0p56GZAqH19OItQWYluDcX0UDA8A51wj8N3CFmQ2H+YAz2mBmHzWz\n",
       "l82sAQgBQeAO4GzfD2r2OTPbZGYtMY/x3mQeQ0Y+hYZkiqbYIIhoA/ITnFvTzW25QHGqG9YH0aCr\n",
       "BjCzFcD/Aw4AH8cbdlqINwRX4OcBzewrwL8BrwArgIuARcBTfh9DMoOGpyRTJNNDmJjgtgq8kGmM\n",
       "fN+KN5cQb2yS7UqKmRUA7wP2OOeqIzd/AnjbOXdT3Ln5dD/vEu8TwPPOuS/EPcaofjZZRhj1NCRT\n",
       "JHNd4xVm1hkIZlYCfBBY67quj7wfGG9m42POywWuTfCz2kjBp/XIPMO/4M1V/EPMoTDecFLsuRUk\n",
       "3o/RXVvCeMNRsY9xHt7kuUgnhYZkimR6Gh14+yJuMLMP461WKgb+T8w5qyLnrTKzP4oMET2D9zcV\n",
       "/7O2AFea2XVmttDMZvtoQ4WZXWxml5jZ1ZHho9eA24EHnXM/iDn3v4E5ZvavZnaVmd0GrMUbvvLb\n",
       "lv8Gro4sGb7KzD6PNzT1doLHkAym4SkZieI/6bsEt/V0+z/jfRr/J2A88BbwAefcK513dG5/pBzH\n",
       "t4Bf4L1BPxg5/+64x/sL4F/xgqYQeAG4ip59GPgIXg+gEa9n8wrwmQQrn34U6fF8Dm/yey9wLzAl\n",
       "ibb8feT7PwXuArYCn8Wb39CSW+lkXb1tkcxmZtPxPln/lXPuwaFtjcjwlFbDU2Z2hZn91swORXaz\n",
       "9lhDx8yWxRV/i375GR4QEZE46TY8VQi8DvwA+BX+JzergIaY72tT3C4RkYyQVqHhnHsKb3KOJPdY\n",
       "1TrnTg1Io2TEcM7tJ8163yKDLVP+QF43s2oz+52ZLRvqxoiIpKuRHhrVwKfxVoCsAHYCqtwpItJH\n",
       "abt6KlJ47Qbn3G+SvN9vAOecO2MS3czGAtfgLW9sTUU7RUSGWD5e4cmnnXPH+/tgaTWnkSKv4tXn\n",
       "SeQa4KeD2BYRkcHyceBn/X2QTAyNC4gUektgf+S/Hwd2DEprRoaH8K5NIcnR85Y8PWfJOxvvw/D+\n",
       "VDxYWoWGmRXhLZ+NOsvMzgeOO+cOmNm9wCTn3G2R878E7AO24VUo/QRd8xuJRIekdjjnNg3E7zAS\n",
       "mdkpPV/J0/OWPD1nyYtZaZqSIfe0Cg28Us3RS2U6vLINAD/CK59QgVc6ISoH+DYwGe+KZW8ByyNL\n",
       "d0VEJElpFRrOuRfoYcWXc+72uO+/jRcaIiKSAiN9ya2IiKSQQkNS4edD3YA0pecteXrOhphCQ/rN\n",
       "Oac/5D7Q85Y8PWdDT6EhIiK+KTRERMQ3hYaIiPim0BAREd8UGiIi4ptCQ0REfFNoiIiIbwoNERHx\n",
       "TaEhIiK+KTRERMQ3hYaIiPim0BAREd8UGiIi4ptCQ0REfFNoiIiIbwoNERHxTaEhIiK+KTRERMQ3\n",
       "hYaIiPim0BAREd8UGiIi4ptCQ0REfFNoiIiIb9lD3QAZmcysiJkzl1NWNpe8vGza2tqpq9vO3r2r\n",
       "nXNNQ90+EekbhYaknJkVsWjRX/OpTxUya1Y9gUCYcDjAnj0X88gj883sXgWHSHrS8JSk3syZy/nU\n",
       "pwqYPbueQOQlFgjA7NkN3HFHATNnLh/aBopIXyk0JPXKyuYya1ZDwmOzZzdQVjZ3kFskIimi0JDU\n",
       "y8vL7uxhxAsEvOMikpYUGpJ6bW3thMOJj4XD3nERSUsKDUm9urrt7NlTkvDYrl0l1NVtH+QWiUiK\n",
       "KDQk9fbuXc0jj7SwY0dJZ48jHIYdO0r44Q9b2Lt39dA2UET6SmPLknLOuSYzu5e6uvh9Guu0T0Mk\n",
       "vSk0ZEBEguHxoW6HiKSWhqdERMQ3hYaIiPim0BAREd8UGiIi4ptCQ0REfFNoiIiIbwoNERHxTfs0\n",
       "MpAukCQifaXQyDC6QJKI9IeGpzKNLpAkIv2gnkam0QWSJANUWdWdFVSM6+54DTXHdrvd/zyYbRop\n",
       "FBqZxrtAUuKLXegCSTLM+Q2DCirGfZNvdnNRF1jJym4fQ3qmN4hM410gKZDwynq6QJIMcwqDoafQ\n",
       "yDTeBZIuZvbsM4eovAskrevLw2pFlvSHnx4EQAUVy7awxSU6J0y4Cdg4QE2UCIVGpvEukDSfO+4o\n",
       "YfbsBgIBr4exa1efL5DU3xVZChzx24M4l3PdPOYlDI0tbCkaqPZJF4VGBul8cw6FHA8/PJXc3DLM\n",
       "6mhv38GpU32/QFLsiqyorhVZJdTVLaeba2toCXBm6aFHsWwVq1yIUNOt3Lp+0Bsmvik0MkSCN+et\n",
       "hMOwZ08Jjzxi/fpU358VWYkCJxjMwbkpXH11JcHgHFu8eIt6HiNDdz2KLWxx85jnVrFKvYVhTqGR\n",