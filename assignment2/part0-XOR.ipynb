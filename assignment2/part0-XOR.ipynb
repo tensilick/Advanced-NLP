
{
 "cells": [
  {
   "cell_type": "markdown",
   "metadata": {},
   "source": [
    "# CS 224D Assignment #2\n",
    "# Part [0]: Warmup: Boolean Logic\n",
    "\n",
    "To appreciate the power of neural networks to learn complex patterns, it can help to revisit a classic example. It is well-known that a single linear classifier cannot represent the XOR function $x \\oplus y$, depicted below*: there is no way to draw a single line that can separate the red and magenta (square) points from the blue and cyan (circle) points.\n",
    "\n",
    "*Gaussian noise is added to make the point clouds more illustrative; however, you can perform your analysis as if all points were truly boolean variables $(x,y) \\in \\{0,1\\}^2$."
   ]
  },
  {
   "cell_type": "code",
   "execution_count": 2,