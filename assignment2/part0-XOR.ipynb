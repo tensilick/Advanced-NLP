
{
 "cells": [
  {
   "cell_type": "markdown",
   "metadata": {},
   "source": [
    "# CS 224D Assignment #2\n",
    "# Part [0]: Warmup: Boolean Logic\n",
    "\n",
    "To appreciate the power of neural networks to learn complex patterns, it can help to revisit a classic example. It is well-known that a single linear classifier cannot represent the XOR function $x \\oplus y$, depicted below*: there is no way to draw a single line that can separate the red and magenta (square) points from the blue and cyan (circle) points.\n",
    "\n",
    "*Gaussian noise is added to make the point clouds more illustrative; however, you can perform your analysis as if all points were truly boolean variables $(x,y) \\in \\{0,1\\}^2$."
   ]
  },
  {
   "cell_type": "code",
   "execution_count": 2,
   "metadata": {
    "collapsed": false
   },
   "outputs": [
    {
     "name": "stdout",
     "output_type": "stream",
     "text": [
      "The autoreload extension is already loaded. To reload it, use:\n",
      "  %reload_ext autoreload\n"
     ]
    }
   ],
   "source": [
    "from numpy import *\n",
    "from matplotlib.pyplot import *\n",
    "from scipy.special import expit\n",
    "\n",
    "%matplotlib inline\n",
    "matplotlib.rcParams['savefig.dpi'] = 100\n",
    "\n",
    "%load_ext autoreload\n",
    "%autoreload 2"
   ]
  },
  {
   "cell_type": "code",
   "execution_count": 3,
   "metadata": {
    "collapsed": true
   },
   "outputs": [],
   "source": [
    "colors = 'rbcm'\n",
    "markers = 'soos'\n",
    "def show_pts(data):\n",
    "    for i in range(4):\n",
    "        idx = (arange(npts) % 4 == i)\n",
    "        plot(data[0,idx], data[1,idx], \n",
    "             marker=markers[i], linestyle='.',\n",
    "             color=colors[i], alpha=0.5)\n",
    "    gca().set_aspect('equal')\n",
    "\n",
    "def show_pts_1d(data):\n",
    "    for i in range(4):\n",
    "        idx = (arange(npts) % 4 == i)\n",
    "        plot(data[idx], marker=markers[i], linestyle='.',\n",
    "             color=colors[i], alpha=0.5)\n",
    "    gca().set_aspect(npts/4.0)\n",
    "    \n",
    "#### Copy in your implementation from Assignment #1 ####\n",
    "def sigmoid(x):\n",
    "    return expit(x) # dummy\n",
    "#### or if the starter code is posted, uncomment the line below ####\n",
    "# from nn.math import sigmoid"
   ]
  },
  {
   "cell_type": "code",
   "execution_count": 4,
   "metadata": {
    "collapsed": false
   },
   "outputs": [
    {