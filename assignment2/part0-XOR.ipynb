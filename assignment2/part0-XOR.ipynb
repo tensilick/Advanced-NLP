
{
 "cells": [
  {
   "cell_type": "markdown",
   "metadata": {},
   "source": [
    "# CS 224D Assignment #2\n",
    "# Part [0]: Warmup: Boolean Logic\n",
    "\n",
    "To appreciate the power of neural networks to learn complex patterns, it can help to revisit a classic example. It is well-known that a single linear classifier cannot represent the XOR function $x \\oplus y$, depicted below*: there is no way to draw a single line that can separate the red and magenta (square) points from the blue and cyan (circle) points.\n",
    "\n",
    "*Gaussian noise is added to make the point clouds more illustrative; however, you can perform your analysis as if all points were truly boolean variables $(x,y) \\in \\{0,1\\}^2$."
   ]
  },
  {
   "cell_type": "code",
   "execution_count": 2,
   "metadata": {
    "collapsed": false
   },
   "outputs": [
    {
     "name": "stdout",
     "output_type": "stream",
     "text": [
      "The autoreload extension is already loaded. To reload it, use:\n",
      "  %reload_ext autoreload\n"
     ]
    }
   ],
   "source": [
    "from numpy import *\n",
    "from matplotlib.pyplot import *\n",
    "from scipy.special import expit\n",
    "\n",
    "%matplotlib inline\n",
    "matplotlib.rcParams['savefig.dpi'] = 100\n",
    "\n",
    "%load_ext autoreload\n",
    "%autoreload 2"
   ]
  },
  {
   "cell_type": "code",
   "execution_count": 3,
   "metadata": {
    "collapsed": true
   },
   "outputs": [],
   "source": [
    "colors = 'rbcm'\n",
    "markers = 'soos'\n",
    "def show_pts(data):\n",
    "    for i in range(4):\n",
    "        idx = (arange(npts) % 4 == i)\n",
    "        plot(data[0,idx], data[1,idx], \n",
    "             marker=markers[i], linestyle='.',\n",
    "             color=colors[i], alpha=0.5)\n",
    "    gca().set_aspect('equal')\n",
    "\n",
    "def show_pts_1d(data):\n",
    "    for i in range(4):\n",
    "        idx = (arange(npts) % 4 == i)\n",
    "        plot(data[idx], marker=markers[i], linestyle='.',\n",
    "             color=colors[i], alpha=0.5)\n",
    "    gca().set_aspect(npts/4.0)\n",
    "    \n",
    "#### Copy in your implementation from Assignment #1 ####\n",
    "def sigmoid(x):\n",
    "    return expit(x) # dummy\n",
    "#### or if the starter code is posted, uncomment the line below ####\n",
    "# from nn.math import sigmoid"
   ]
  },
  {
   "cell_type": "code",
   "execution_count": 4,
   "metadata": {
    "collapsed": false
   },
   "outputs": [
    {
     "data": {
      "text/plain": [
       "<matplotlib.text.Text at 0x7f292da8ea50>"
      ]
     },
     "execution_count": 4,
     "metadata": {},
     "output_type": "execute_result"
    },
    {
     "data": {
      "image/png": [
       "iVBORw0KGgoAAAANSUhEUgAAAY0AAAGFCAYAAAAB9K+8AAAABHNCSVQICAgIfAhkiAAAAAlwSFlz\n",
       "AAAPYQAAD2EBqD+naQAAIABJREFUeJzt3Xt81PWd7/HXZ3K/QQgBAuEqBESLKAJeEbStutRapZdV\n",
       "W+vq9rpdu2136+luD56t3a1nrZft3mq7ttuuvXC0rdt2F2+1imhFQFSQOwgKhAAhQO6ZSeZ7/vjN\n",
       "JMMwSX6TTC6TeT/7yEMyv99MvplO5j3f2+dnzjlERET8CAx1A0REJH0oNERExDeFhoiI+KbQEBER\n",
       "3xQaIiLim0JDRER8U2iIiIhvCg0REfFNoSEiIr4pNGREMbM/MbOwmS0Y6rZEmdnfmNmHkjg/HPPV\n",
       "bmZ1ZvaGmT1sZhcNZltE4ik0RAbe3wDJvlE/DlwMXAb8MfCfke9fMbN/HOS2iHTKHuoGiGQAB1iS\n",
       "9zninFsf8/2zkbD4PvBFM9vhnHt4kNoi0kk9DRnxzOxHZtZgZjPNbHXk3++a2f1mlhtz3vTIkNBX\n",
       "zezrkXNazGyDmV2V4DH3JfhZf2tm4Zjvw0ARcFvMkNPv+/J7OOfCwJ8DtcBXY35Gnpk9YGavm9lJ\n",
       "MztuZn8ws+vj2tZtW8xsnJn9m5ltjTw/R8zsOTO7vC9tlZFLoSGZIgf4LfAscD3wQ+DLwP9KcO6f\n",
       "A1cDXwQ+AYSBJ83s4rjzuisRHXv7JUAL8D94w0sXA3/Wt18BnHOtwHPADDOrjNycB4wFHgRuAG4C\n",
       "XgJ+aWa3+mzLmMh/vwl8APgT4G3gBTNb2tf2ysij4SnJFLnASufcLyPfP29mC4Fb8N4oYwWA9zvn\n",
       "ggBm9jSwH7gHL0yiuhvm6bzdOfdq5BP+sbjhpv54J/LficAh51w93ps8kfZmAc8DZcCXgEd7a4tz\n",
       "bhcxYRZ5jGeB6XjhuSZFbZc0p56GZAqH19OItQWYluDcX0UDA8A51wj8N3CFmQ2H+YAz2mBmHzWz\n",
       "l82sAQgBQeAO4GzfD2r2OTPbZGYtMY/x3mQeQ0Y+hYZkiqbYIIhoA/ITnFvTzW25QHGqG9YH0aCr\n",
       "BjCzFcD/Aw4AH8cbdlqINwRX4OcBzewrwL8BrwArgIuARcBTfh9DMoOGpyRTJNNDmJjgtgq8kGmM\n",
       "fN+KN5cQb2yS7UqKmRUA7wP2OOeqIzd/AnjbOXdT3Ln5dD/vEu8TwPPOuS/EPcaofjZZRhj1NCRT\n",
       "JHNd4xVm1hkIZlYCfBBY67quj7wfGG9m42POywWuTfCz2kjBp/XIPMO/4M1V/EPMoTDecFLsuRUk\n",
       "3o/RXVvCeMNRsY9xHt7kuUgnhYZkimR6Gh14+yJuMLMP461WKgb+T8w5qyLnrTKzP4oMET2D9zcV\n",
       "/7O2AFea2XVmttDMZvtoQ4WZXWxml5jZ1ZHho9eA24EHnXM/iDn3v4E5ZvavZnaVmd0GrMUbvvLb\n",
       "lv8Gro4sGb7KzD6PNzT1doLHkAym4SkZieI/6bsEt/V0+z/jfRr/J2A88BbwAefcK513dG5/pBzH\n",
       "t4Bf4L1BPxg5/+64x/sL4F/xgqYQeAG4ip59GPgIXg+gEa9n8wrwmQQrn34U6fF8Dm/yey9wLzAl\n",
       "ibb8feT7PwXuArYCn8Wb39CSW+lkXb1tkcxmZtPxPln/lXPuwaFtjcjwlFbDU2Z2hZn91swORXaz\n",
       "9lhDx8yWxRV/i375GR4QEZE46TY8VQi8DvwA+BX+JzergIaY72tT3C4RkYyQVqHhnHsKb3KOJPdY\n",
       "1TrnTg1Io2TEcM7tJ8163yKDLVP+QF43s2oz+52ZLRvqxoiIpKuRHhrVwKfxVoCsAHYCqtwpItJH\n",
       "abt6KlJ47Qbn3G+SvN9vAOecO2MS3czGAtfgLW9sTUU7RUSGWD5e4cmnnXPH+/tgaTWnkSKv4tXn\n",
       "SeQa4KeD2BYRkcHyceBn/X2QTAyNC4gUektgf+S/Hwd2DEprRoaH8K5NIcnR85Y8PWfJOxvvw/D+\n",
       "VDxYWoWGmRXhLZ+NOsvMzgeOO+cOmNm9wCTn3G2R878E7AO24VUo/QRd8xuJRIekdjjnNg3E7zAS\n",
       "mdkpPV/J0/OWPD1nyYtZaZqSIfe0Cg28Us3RS2U6vLINAD/CK59QgVc6ISoH+DYwGe+KZW8ByyNL\n",
       "d0VEJElpFRrOuRfoYcWXc+72uO+/jRcaIiKSAiN9ya2IiKSQQkNS4edD3YA0pecteXrOhphCQ/rN\n",
       "Oac/5D7Q85Y8PWdDT6EhIiK+KTRERMQ3hYaIiPim0BAREd8UGiIi4ptCQ0REfFNoiIiIbwoNERHx\n",
       "TaEhIiK+KTRERMQ3hYaIiPim0BAREd8UGiIi4ptCQ0REfFNoiIiIbwoNERHxTaEhIiK+KTRERMQ3\n",
       "hYaIiPim0BAREd8UGiIi4ptCQ0REfFNoiIiIb9lD3QAZmcysiJkzl1NWNpe8vGza2tqpq9vO3r2r\n",
       "nXNNQ90+EekbhYaknJkVsWjRX/OpTxUya1Y9gUCYcDjAnj0X88gj883sXgWHSHrS8JSk3syZy/nU\n",
       "pwqYPbueQOQlFgjA7NkN3HFHATNnLh/aBopIXyk0JPXKyuYya1ZDwmOzZzdQVjZ3kFskIimi0JDU\n",
       "y8vL7uxhxAsEvOMikpYUGpJ6bW3thMOJj4XD3nERSUsKDUm9urrt7NlTkvDYrl0l1NVtH+QWiUiK\n",
       "KDQk9fbuXc0jj7SwY0dJZ48jHIYdO0r44Q9b2Lt39dA2UET6SmPLknLOuSYzu5e6uvh9Guu0T0Mk\n",
       "vSk0ZEBEguHxoW6HiKSWhqdERMQ3hYaIiPim0BAREd8UGiIi4ptCQ0REfFNoiIiIbwoNERHxTfs0\n",
       "MpAukCQifaXQyDC6QJKI9IeGpzKNLpAkIv2gnkam0QWSJANUWdWdFVSM6+54DTXHdrvd/zyYbRop\n",
       "FBqZxrtAUuKLXegCSTLM+Q2DCirGfZNvdnNRF1jJym4fQ3qmN4hM410gKZDwynq6QJIMcwqDoafQ\n",
       "yDTeBZIuZvbsM4eovAskrevLw2pFlvSHnx4EQAUVy7awxSU6J0y4Cdg4QE2UCIVGpvEukDSfO+4o\n",
       "YfbsBgIBr4exa1efL5DU3xVZChzx24M4l3PdPOYlDI0tbCkaqPZJF4VGBul8cw6FHA8/PJXc3DLM\n",
       "6mhv38GpU32/QFLsiqyorhVZJdTVLaeba2toCXBm6aFHsWwVq1yIUNOt3Lp+0Bsmvik0MkSCN+et\n",
       "hMOwZ08Jjzxi/fpU358VWYkCJxjMwbkpXH11JcHgHFu8eIt6HiNDdz2KLWxx85jnVrFKvYVhTqGR\n",
       "KfrbG5g69UZGjfogRUUTCASgpaWGkyf/h/37f8Xll/d9RVZ84LS25rBz5xJmzMihqqqNmpqx3HKL\n",
       "eh4iw4RCI1P0sTdgZkWcf/7dzJmzlOuuc1RWtgFQXz+V9ev/jKeffg+NjUHCYZJZkdU5VFZefhU/\n",
       "/WkWx46NIRRyjB2bRWlpMSdPNrBw4XGys81vuIlE1VBzrKeVVNGJdUmeQiNT9HV/xsyZyzn//Lm8\n",
       "731hKiuDnbePHh1k8eJcsrPn8pOf7GbPHvyuyDptqKyx0SgomMLkyVk0NjpeeqmEa6+tp7GxhKef\n",
       "LqK5eX/nHbX5MCM9yqOLgWKAgxyc+CAP5sQeb6U1dBZnVW9lq0XDoLeNe1VWdecSW3JPd8e1+a97\n",
       "Co1M0df9GWVlcwkEipk0KXjGsVGjgpSVlVBa2swjj5jvFVmxQ2Xr1uUwfXouJSVBSkpg0SJj8+YC\n",
       "Lr20mfPOy+G3v83tvJ82H2akHHKKPsbHHMA85h2KP76KVXYTNz2/kpUBv2/0/dnvkem7zfUHmCn6\n",
       "uj8jLy+bnJwszLqWOQaDAaqrx9LaWkhzc4C8POPQoUf4h38wxo2bEbNsNvGKrOhQWWtrDh0dpTQ1\n",
       "FdLRUUQgEKawMIe6OkdDQxbBYIgxY0Kd99PmwxErTLhpC1uKtrLVVrIy/pONzWVuIyReVhu9z2AN\n",
       "OWX6BkOFRqbobn/G1q1l/PCHkygpabYlS+adsUeira2dUKgD5wKYeYGxd+9UpkzJoqiog9raMHPn\n",
       "hvmTP7mARx5pYcOG3ieq8/KyCQaz2LlzCaNHl1BZeYpgsIBwOIe2NuPYsQKOHDnMrFm1bN7cdb9+\n",
       "bD6U4W0+89cDPMZjgbVu7d3R2yOf6gkQSLiqKrqhL/Y+MrAUGhnCOddkZvdSV9e1ia652QgGK7n9\n",
       "9kOcf35HJEhOW6nEzJnbCYcXUl1dTmVlkOrqsUyZkkVxcQdtbVkcP97EqFG1SU1Ut7W1s3//2cyY\n",
       "kU11dTtmRn5+MwB5eUZhYSnt7VlkZ4dpbw/3d/OhDB/JTlBXUDGuuw19O9lZWUddLlAcOz9xilOL\n",
       "RjO6qI22pjzyNkRvb6NtUR55Rac41TSa0UXxO8vDhJui4SXdU2hkkEgPoPMN3WbN+ih33VV42pBV\n",
       "/EqlvXtXU1KykObmpVx3XS5NTUWMGZPHkSN5HD4MGzaEWbgwi1OnCoEplJWdn7DHEquubjuHDl3D\n",
       "nDlB8vObaWoaRXFxBwBHjxrjxh3ixIkwv/99Dhs3VrN5c7jboS5JK6kc6zcsp4oqdy7nupu4qXO4\n",
       "aBWrCm/ipvAWthTOY17n7dHvV7GqEDgjiLSj3B+FxgjlqzSHj2W4bs+ex83sHurqbmTLlhsYNWou\n",
       "F14YIBBoo6yslptvrqW9vZLNmxdyzjk1XHBBKzff3POu7r17V/Pss3cyZ04uEyce5+23i6is9FZP\n",
       "vfpqmPe/v5ZXX83hmWee5803tS9Dhp1HeXRxDjndhYxVWdWdI3UyXKExAvkuzeFzGW7kTfsnNmtW\n",
       "GzNmTOQjHwlh1nXuyZMlnHtuDqdOFdPR0dR5/26GrJxzTXbBBWvYuHEOjY3lOHeAJ5/09mlMnHiS\n",
       "J55oZ/36w7z1lgIjA8WtTlpWTfXUXezqPO5woTnMOWMV1WDKIafoJm7qrgYWj/HYiJ0MV2iMRH53\n",
       "fyexDDeyye/DFBWNZvv20Ywf3052djMlJcdpby9k7Ngg27YVU1Ky9bTH6W5vRUPDZs45p5DZs7ed\n",
       "cWzHjhLWrFmnwMhMsauTtrDF7WNfaBe7Ovdm7GJXzuu8btVUM5axBAgk/ToJEWqKL1myla32GI8F\n",
       "QJv/eqLQGIn87v72uQy3s+cyZ840brihjmefLaa0NIvi4lEcP15CW1sBO3fm8NxzMGXKeH79a1i6\n",
       "dDelpaFu91YMQLVdSV/xvYtVrHIAbbRNG8tYwoRD13P9Iejal7GKVVeey7nMY17Sk9eJiiKuZGXA\n",
       "zyqsGmqONdBQ2UZbwvfPMOHQKU4tSrZN6UKhMRL53f3t94072nNZv76FoqIAV1/9Lhs3juXEiSJC\n",
       "oTKam7OYNauJqqoWJk0ax+HDZ/HII4spL3+H0tIjNDbujG9GwtVcPe3tiKFS6sNDKje5VVAx7iN8\n",
       "ZGGAQFEjjdOqqIqGRmkBBTzN0+xkJ0M9LAXeZP4SW/LR27it270ab/P2iJ1UT5vQMLMrgK8CC4CJ\n",
       "wI3OuV/3cp+lwIPAOUA1cJ9z7nsD3dYh53PYyfcbd7Tnsn17LdXVk6msDLJ06TFOnoSCgix27coj\n",
       "N7edN98s4KqrAixd2kFjYxa1teW0tRWxZk3AzIri39DjV3P5oVLqw0cqNrnFBM+yZpqnVVHlDnN4\n",
       "dCGFAOSSm5NNdiiffA5zeGwddblb2cpKVl4FTJvK1OAWtlwJWjI7WNImNIBC4HXgB8CvgISTUFFm\n",
       "NgNYDXwPuAW4HPg3MzvmnPvVALd1aCWx+9vXG3e057J06W5+85sJXHVVLpWVQdrbC8nJ6eDUqSAv\n",
       "vpjLRz7SQTCYx549OZgZR4+WEA5Xc8stddTX32OLF5/qd8+gH9V6ZfiJBs8qVrmxjHXllHOSk0RD\n",
       "o5nmUCGFJ3PIIY88u4RL9r3DO3YTNz3/KI8ufpd3Oz/Rb2Vr8S/4ReAUp5q3sjW6T6Pzk1Mbbc3R\n",
       "fRpb2XrGJyrNY/iTNqHhnHsKeArAYlfudO9zwH7n3Fci3+80s4XAX+GFzsiV6vmCaM+ltDTE9de/\n",
       "xJo1VbzwQjkdHUZpqWPHjhOUlzfQ0jKLsrI8yssd4CgsDJGT08j27dewaFE1n/nM0/3uGfTn2h0y\n",
       "LD3Ko4uPcWzaWZxVWkcdrbTmt9ACQDvtNNNcAjQ001yyi13TD3Kw5Mf8eBpAG22dj9NAQ3sJJbTQ\n",
       "snqz2zwil7sOB2kTGn1wCfBM3G3PAH9qZlnOuY4haNOg6M98QUKxPZfS0hAf+pC34mnzZmPMmDzg\n",
       "IPv3n8vMmW0UFzdHGgHNzY7GxiLe854c9u0bRX19DmvWVNHQUE52dhYzZ2Zz/HiBmd3tu019rdab\n",
       "4YZzkb0ccopmM5uyyP9OcIICCgDIJpsQoazIeYHZzGYmM7Nu5MYzHuc4x7O/wlfCg1H7qY22pi1s\n",
       "Kezp+EC3YaiM5D+wCcCRuNuO4P3O5QmOjSh9mS/oVnc9l+PHG/jDHwq46abd7NixkMLCriAOBrPI\n",
       "zq6ntbWQqVODtLUV8pvfXM5735vLpEltmDlCoQ4qK5fz4osX2sUXv0I43NLrsFVfq/VmuDQrshfe\n",
       "y94AQCjyv13s4gQnqKeeMOEh/8CXR96G2N3mCY4neIGODCM5NCRFuu25HDv2OKWl76GmJp9AoIWj\n",